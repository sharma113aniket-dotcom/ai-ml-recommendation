{
 "cells": [
  {
   "cell_type": "code",
   "execution_count": 1,
   "metadata": {},
   "outputs": [
    {
     "name": "stderr",
     "output_type": "stream",
     "text": [
      "c:\\Users\\aniket sharma\\Music\\ai-ml-recommendation\\backend\\app\\venv\\Lib\\site-packages\\tqdm\\auto.py:21: TqdmWarning: IProgress not found. Please update jupyter and ipywidgets. See https://ipywidgets.readthedocs.io/en/stable/user_install.html\n",
      "  from .autonotebook import tqdm as notebook_tqdm\n"
     ]
    }
   ],
   "source": [
    "# Model Training Notebook\n",
    "# We'll train a simple semantic-retrieval based recommendation system using embeddings.\n",
    "import pandas as pd\n",
    "from sentence_transformers import SentenceTransformer\n",
    "import numpy as np\n",
    "from sklearn.metrics.pairwise import cosine_similarity\n"
   ]
  },
  {
   "cell_type": "code",
   "execution_count": 2,
   "metadata": {},
   "outputs": [],
   "source": [
    "DATA_PATH = \"../backend/app/data/products.csv\"\n",
    "df = pd.read_csv(DATA_PATH)\n",
    "df['combined_text'] = df['title'].fillna('') + ' ' + df['description'].fillna('') + ' ' + df['categories'].fillna('')\n"
   ]
  },
  {
   "cell_type": "code",
   "execution_count": 3,
   "metadata": {},
   "outputs": [
    {
     "name": "stderr",
     "output_type": "stream",
     "text": [
      "Batches: 100%|██████████| 10/10 [00:10<00:00,  1.04s/it]"
     ]
    },
    {
     "name": "stdout",
     "output_type": "stream",
     "text": [
      "Embeddings shape: (312, 384)\n"
     ]
    },
    {
     "name": "stderr",
     "output_type": "stream",
     "text": [
      "\n"
     ]
    }
   ],
   "source": [
    "model = SentenceTransformer('all-MiniLM-L6-v2')\n",
    "sample_texts = df['combined_text'].tolist()\n",
    "embs = model.encode(sample_texts, show_progress_bar=True, convert_to_numpy=True)\n",
    "print(\"Embeddings shape:\", embs.shape)\n"
   ]
  },
  {
   "cell_type": "code",
   "execution_count": 4,
   "metadata": {},
   "outputs": [
    {
     "name": "stdout",
     "output_type": "stream",
     "text": [
      "Query: small wooden side table for living room\n",
      "                                  uniq_id  \\\n",
      "36   7df6de67-891e-567d-b8a5-3d184440a707   \n",
      "102  0f7db59b-10e3-5fce-a0c4-380f718befe1   \n",
      "246  487adf3a-9485-5500-9c98-bcc391eda169   \n",
      "30   fb5af385-aee6-568c-a22f-e6b90ef92dac   \n",
      "163  07b9d03a-02bc-5bc9-9133-a8e7b706cbc4   \n",
      "\n",
      "                                                 title                  brand  \\\n",
      "36   FLYJOE Narrow Side Table with PU Leather Magaz...                 FLYJOE   \n",
      "102  Get Set Style Black Glass Side Table, Square G...    Get Set Style Store   \n",
      "246  3-Tier Side Table,Narrow End Table with Storag...              HomeToDou   \n",
      "30   Flash Furniture Webb Commercial Grade 24\" Roun...  Flash Furniture Store   \n",
      "163  FurnitureR 27''H Round Drawer 2 Tiers Endtable...             FurnitureR   \n",
      "\n",
      "       price                                         categories  \n",
      "36    $49.99  ['Home & Kitchen', 'Furniture', 'Living Room F...  \n",
      "102   $59.99  ['Home & Kitchen', 'Furniture', 'Living Room F...  \n",
      "246   $37.99  ['Home & Kitchen', 'Furniture', 'Living Room F...  \n",
      "30   $140.00  ['Home & Kitchen', 'Furniture', 'Dining Room F...  \n",
      "163      NaN  ['Home & Kitchen', 'Furniture', 'Living Room F...  \n",
      "----------\n",
      "Query: ergonomic office chair with armrest\n",
      "                                  uniq_id  \\\n",
      "87   0583ef58-47cd-509b-9e6d-89a0ad8490b2   \n",
      "180  6ef05895-5331-5622-9303-0021258ea3cd   \n",
      "92   e0ea5029-8dae-5261-9c57-e98bd40e5bdb   \n",
      "15   a0a69530-a944-589d-a036-90358cb9e485   \n",
      "232  de8420e9-0b53-5471-9e25-32cdfb012603   \n",
      "\n",
      "                                                 title  \\\n",
      "87   Ergonomic Office Chair,Office Chair, with Lumb...   \n",
      "180  ACCHAR Ergonomic Office Chair, Reclining Mesh ...   \n",
      "92   ErGear Ergonomic Desk Chair, Office Chair with...   \n",
      "15   Boss Office Products Any Task Mid-Back Task Ch...   \n",
      "232  Serta Executive Office Padded Arms, Adjustable...   \n",
      "\n",
      "                          brand    price  \\\n",
      "87                        SCaua  $126.99   \n",
      "180                      ACCHAR   $99.00   \n",
      "92                       ErGear  $129.99   \n",
      "15   Boss Office Products Store      NaN   \n",
      "232                 Serta Store      NaN   \n",
      "\n",
      "                                            categories  \n",
      "87   ['Home & Kitchen', 'Furniture', 'Home Office F...  \n",
      "180  ['Home & Kitchen', 'Furniture', 'Home Office F...  \n",
      "92   ['Home & Kitchen', 'Furniture', 'Home Office F...  \n",
      "15   ['Home & Kitchen', 'Furniture', 'Home Office F...  \n",
      "232  ['Home & Kitchen', 'Furniture', 'Home Office F...  \n",
      "----------\n",
      "Query: queen size bed with storage\n",
      "                                  uniq_id  \\\n",
      "211  968ce011-a64e-53e9-970c-b80b52da220b   \n",
      "233  a8c63d2b-e8f3-5c06-a8d4-33f15bdcbdf3   \n",
      "199  9836a914-1b28-5d08-adfb-e7f9a93b0b85   \n",
      "156  122d2099-7cc7-5086-9867-9ae8378a7825   \n",
      "130  d17a5617-f96f-5a7e-a373-83af67959299   \n",
      "\n",
      "                                                 title          brand   price  \\\n",
      "211  ZIYOO Twin Bed Frame 14 Inch High 3 Inches Wid...    ZIYOO Store  $99.99   \n",
      "233  KoiHome Wooden Daybed with 2 Storage Drawers, ...        KoiHome     NaN   \n",
      "199  PINPLUS Storage Ottoman Bench, Linen Coffee Ta...  PINPLUS Store  $69.99   \n",
      "156  King Mattresses Bag for Moving Storage Protect...        NiSleep  $43.99   \n",
      "130  Adeco Large Square Storage Ottoman Bench, Tuft...    Adeco Store     NaN   \n",
      "\n",
      "                                            categories  \n",
      "211  ['Home & Kitchen', 'Furniture', 'Bedroom Furni...  \n",
      "233  ['Home & Kitchen', 'Furniture', 'Bedroom Furni...  \n",
      "199  ['Home & Kitchen', 'Furniture', 'Living Room F...  \n",
      "156  ['Home & Kitchen', 'Furniture', 'Bedroom Furni...  \n",
      "130  ['Home & Kitchen', 'Furniture', 'Living Room F...  \n",
      "----------\n"
     ]
    }
   ],
   "source": [
    "# simple recommend function\n",
    "def recommend_for_text(query, top_k=5):\n",
    "    q_emb = model.encode([query], convert_to_numpy=True)[0]\n",
    "    sims = cosine_similarity([q_emb], embs)[0]\n",
    "    idxs = np.argsort(-sims)[:top_k]\n",
    "    return df.iloc[idxs][['uniq_id','title','brand','price','categories']]\n",
    "\n",
    "# Evaluate with a few sample queries to check result quality\n",
    "queries = [\n",
    "    \"small wooden side table for living room\",\n",
    "    \"ergonomic office chair with armrest\",\n",
    "    \"queen size bed with storage\"\n",
    "]\n",
    "for q in queries:\n",
    "    print(\"Query:\", q)\n",
    "    print(recommend_for_text(q, top_k=5))\n",
    "    print(\"----------\")\n"
   ]
  },
  {
   "cell_type": "code",
   "execution_count": 5,
   "metadata": {},
   "outputs": [
    {
     "name": "stderr",
     "output_type": "stream",
     "text": [
      "c:\\Users\\aniket sharma\\Music\\ai-ml-recommendation\\backend\\app\\venv\\Lib\\site-packages\\torchvision\\models\\_utils.py:208: UserWarning: The parameter 'pretrained' is deprecated since 0.13 and may be removed in the future, please use 'weights' instead.\n",
      "  warnings.warn(\n",
      "c:\\Users\\aniket sharma\\Music\\ai-ml-recommendation\\backend\\app\\venv\\Lib\\site-packages\\torchvision\\models\\_utils.py:223: UserWarning: Arguments other than a weight enum or `None` for 'weights' are deprecated since 0.13 and may be removed in the future. The current behavior is equivalent to passing `weights=ResNet18_Weights.IMAGENET1K_V1`. You can also use `weights=ResNet18_Weights.DEFAULT` to get the most up-to-date weights.\n",
      "  warnings.warn(msg)\n"
     ]
    }
   ],
   "source": [
    "# Use torchvision pretrained model to extract features for a sample image (if available)\n",
    "from torchvision import models, transforms\n",
    "import torch\n",
    "from PIL import Image\n",
    "\n",
    "resnet = models.resnet18(pretrained=True)\n",
    "resnet.eval()\n",
    "transform = transforms.Compose([transforms.Resize((224,224)), transforms.ToTensor(), transforms.Normalize([0.485,0.456,0.406],[0.229,0.224,0.225])])\n",
    "\n",
    "# If dataset includes images locally, pick one sample path\n",
    "# img = Image.open('path_to_sample_image.jpg').convert('RGB')\n",
    "# x = transform(img).unsqueeze(0)\n",
    "# feat = resnet(x)\n",
    "# print(feat.shape)\n"
   ]
  },
  {
   "cell_type": "code",
   "execution_count": 6,
   "metadata": {},
   "outputs": [
    {
     "name": "stdout",
     "output_type": "stream",
     "text": [
      "Saved embeddings.\n"
     ]
    }
   ],
   "source": [
    "# Save embeddings to a .npy file so backend can load them quickly\n",
    "np.save('../backend/app/data/embeddings.npy', embs)\n",
    "print(\"Saved embeddings.\")\n"
   ]
  }
 ],
 "metadata": {
  "kernelspec": {
   "display_name": "venv",
   "language": "python",
   "name": "python3"
  },
  "language_info": {
   "codemirror_mode": {
    "name": "ipython",
    "version": 3
   },
   "file_extension": ".py",
   "mimetype": "text/x-python",
   "name": "python",
   "nbconvert_exporter": "python",
   "pygments_lexer": "ipython3",
   "version": "3.13.5"
  }
 },
 "nbformat": 4,
 "nbformat_minor": 2
}
